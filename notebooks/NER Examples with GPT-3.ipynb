{
  "nbformat": 4,
  "nbformat_minor": 0,
  "metadata": {
    "colab": {
      "provenance": [],
      "include_colab_link": true
    },
    "kernelspec": {
      "name": "python3",
      "display_name": "Python 3"
    },
    "language_info": {
      "name": "python"
    },
    "gpuClass": "standard"
  },
  "cells": [
    {
      "cell_type": "markdown",
      "metadata": {
        "id": "view-in-github",
        "colab_type": "text"
      },
      "source": [
        "<a href=\"https://colab.research.google.com/github/Formatted/Promptify/blob/main/NER%20Examples%20with%20GPT-3.ipynb\" target=\"_parent\"><img src=\"https://colab.research.google.com/assets/colab-badge.svg\" alt=\"Open In Colab\"/></a>"
      ]
    },
    {
      "cell_type": "code",
      "execution_count": null,
      "metadata": {
        "id": "4HhNZ9PRTgxM"
      },
      "outputs": [],
      "source": [
        "%%capture\n",
        "!git clone https://github.com/promptslab/Promptify.git\n",
        "!pip3 install openai tiktoken huggingface_hub"
      ]
    },
    {
      "cell_type": "markdown",
      "source": [
        "<h2>Features 🚀</h2>\n",
        "<ul>\n",
        "  <li>🧙‍♀️ NER in 2 lines of code with no training data required</li>\n",
        "  <li>🔨 Easily add one shot, two shot, or few shot examples to the prompt</li>\n",
        "  <li>✌ Output always provided as a Python object (e.g. list, dictionary) for easy parsing and filtering</li>\n",
        "  <li>💥 Custom examples and samples can be easily added to the prompt</li>\n",
        "  <li>💰 Optimized prompts to reduce OpenAI token costs (coming soon)</li>\n",
        "</ul>\n",
        "\n",
        "\n"
      ],
      "metadata": {
        "id": "k5vxlro8lAWu"
      }
    },
    {
      "cell_type": "markdown",
      "source": [
        "### Define any LLM model (such as GPT-3)  ✅"
      ],
      "metadata": {
        "id": "oGti-CqqaoUw"
      }
    },
    {
      "cell_type": "code",
      "source": [
        "%cd /content/Promptify\n",
        "\n",
        "import json\n",
        "import promptify.models\n",
        "from promptify import OpenAI\n",
        "from promptify import Prompter\n",
        "from pprint import pprint\n",
        "from IPython.display import Markdown, display\n",
        "from IPython.core.display import display, HTML\n",
        "\n",
        "\n",
        "# Define the API key for the OpenAI model\n",
        "api_key  = \"\"\n",
        "\n",
        "\n",
        "# Create an instance of the OpenAI model, Currently supporting Openai's all model, In future adding more generative models from Hugginface and other platforms\n",
        "model = OpenAI(api_key)\n",
        "nlp_prompter = Prompter(model)\n",
        "\n",
        "\n",
        "# Example sentence for demonstration\n",
        "sent = \"The patient is a 93-year-old female with a medical history of chronic right hip pain, osteoporosis, hypertension, depression, and chronic atrial fibrillation admitted for evaluation and management of severe nausea and vomiting and urinary tract infection\"\n",
        "print(sent)"
      ],
      "metadata": {
        "colab": {
          "base_uri": "https://localhost:8080/"
        },
        "id": "Q1VTSg8XUATO",
        "outputId": "c1054acf-4e06-412d-deb4-b6e4ae891a64"
      },
      "execution_count": null,
      "outputs": [
        {
          "output_type": "stream",
          "name": "stdout",
          "text": [
            "/content/Promptify\n",
            "The patient is a 93-year-old female with a medical history of chronic right hip pain, osteoporosis, hypertension, depression, and chronic atrial fibrillation admitted for evaluation and management of severe nausea and vomiting and urinary tract infection\n"
          ]
        }
      ]
    },
    {
      "cell_type": "markdown",
      "source": [
        "### 1: Named Entity Recognition (NER) Example in 2 Lines of code, with no training data required 🚀\n",
        "\n"
      ],
      "metadata": {
        "id": "NXwzgg9PbV0Z"
      }
    },
    {
      "cell_type": "code",
      "source": [
        "# Named Entity Recognition with No labels, no description, no oneshot, no examples\n",
        "# Simple prompt with instructions\n",
        "# domain name gives more info to model for better result generation, the parameter is optional\n",
        "# Output will be python object -> [ {'E' : Entity Name, 'T': Type of Entity } ]\n",
        "\n",
        "\n",
        "result = nlp_prompter.fit('ner.jinja',\n",
        "                          domain      = 'medical',\n",
        "                          text_input  = sent, \n",
        "                          labels      = None)\n",
        "\n",
        "# Output\n",
        "pprint(eval(result['text']))"
      ],
      "metadata": {
        "colab": {
          "base_uri": "https://localhost:8080/",
          "height": 403
        },
        "id": "h9UW8wnZVhXe",
        "outputId": "a39acaf1-4521-4dfa-869d-dffe7780f6db"
      },
      "execution_count": null,
      "outputs": [
        {
          "output_type": "display_data",
          "data": {
            "text/plain": [
              "<IPython.core.display.HTML object>"
            ],
            "text/html": [
              "<h4>Sentence</h4>"
            ]
          },
          "metadata": {}
        },
        {
          "output_type": "stream",
          "name": "stdout",
          "text": [
            "\n",
            "\n",
            "The patient is a 93-year-old female with a medical history of chronic right hip pain, osteoporosis, hypertension, depression, and chronic atrial fibrillation admitted for evaluation and management of severe nausea and vomiting and urinary tract infection\n",
            "\n",
            "\n"
          ]
        },
        {
          "output_type": "display_data",
          "data": {
            "text/plain": [
              "<IPython.core.display.HTML object>"
            ],
            "text/html": [
              "<h4>Output</h4>"
            ]
          },
          "metadata": {}
        },
        {
          "output_type": "stream",
          "name": "stdout",
          "text": [
            "\n",
            "\n",
            "[{'E': '93-year-old', 'T': 'Age'},\n",
            " {'E': 'chronic right hip pain', 'T': 'Medical Condition'},\n",
            " {'E': 'osteoporosis', 'T': 'Medical Condition'},\n",
            " {'E': 'hypertension', 'T': 'Medical Condition'},\n",
            " {'E': 'depression', 'T': 'Medical Condition'},\n",
            " {'E': 'chronic atrial fibrillation', 'T': 'Medical Condition'},\n",
            " {'E': 'severe nausea and vomiting', 'T': 'Symptom'},\n",
            " {'E': 'urinary tract infection', 'T': 'Medical Condition'},\n",
            " {'Branch': 'Internal Medicine', 'Group': 'Geriatrics'}]\n"
          ]
        }
      ]
    },
    {
      "cell_type": "code",
      "source": [
        "# You can also return the output with start and end position of the tokens. \n",
        "# For that use the output format like this -> [{'E': '93-year-old', 'T': 'Age', 'S' : Start Position, 'En' : End Position}]"
      ],
      "metadata": {
        "id": "1dJ1zN1DxXn-"
      },
      "execution_count": null,
      "outputs": []
    },
    {
      "cell_type": "markdown",
      "source": [
        "###2 : Named Entity Recognition (NER) with Custom Tags/Entities  🚀\n",
        "\n"
      ],
      "metadata": {
        "id": "DQiklr0ugcLJ"
      }
    },
    {
      "cell_type": "code",
      "source": [
        "# Case : 2\n",
        "# If want to perform NER with custom tags only (hangling out-of-bounds prediction) prompt\n",
        "\n",
        "\n",
        "result = nlp_prompter.fit('ner.jinja',\n",
        "                          domain      = 'medical',\n",
        "                          text_input  = sent, \n",
        "                          labels      = [\"SYMPTOM\", \"DISEASE\"])\n",
        "\n",
        "# Output\n",
        "pprint(eval(result['text']))"
      ],
      "metadata": {
        "colab": {
          "base_uri": "https://localhost:8080/",
          "height": 367
        },
        "id": "EObz_MTSebBv",
        "outputId": "3b317e7e-f498-4cac-8f1b-dc5943a9eb0c"
      },
      "execution_count": null,
      "outputs": [
        {
          "output_type": "display_data",
          "data": {
            "text/plain": [
              "<IPython.core.display.HTML object>"
            ],
            "text/html": [
              "<h4>Sentence</h4>"
            ]
          },
          "metadata": {}
        },
        {
          "output_type": "stream",
          "name": "stdout",
          "text": [
            "\n",
            "\n",
            "The patient is a 93-year-old female with a medical history of chronic right hip pain, osteoporosis, hypertension, depression, and chronic atrial fibrillation admitted for evaluation and management of severe nausea and vomiting and urinary tract infection\n",
            "\n",
            "\n"
          ]
        },
        {
          "output_type": "display_data",
          "data": {
            "text/plain": [
              "<IPython.core.display.HTML object>"
            ],
            "text/html": [
              "<h4>Output</h4>"
            ]
          },
          "metadata": {}
        },
        {
          "output_type": "stream",
          "name": "stdout",
          "text": [
            "\n",
            "\n",
            "[{'E': 'nausea and vomiting', 'T': 'SYMPTOM'},\n",
            " {'E': 'urinary tract infection', 'T': 'SYMPTOM'},\n",
            " {'E': 'osteoporosis', 'T': 'DISEASE'},\n",
            " {'E': 'hypertension', 'T': 'DISEASE'},\n",
            " {'E': 'depression', 'T': 'DISEASE'},\n",
            " {'E': 'chronic atrial fibrillation', 'T': 'DISEASE'},\n",
            " {'branch': 'Medical', 'group': 'History'}]\n"
          ]
        }
      ]
    },
    {
      "cell_type": "markdown",
      "source": [
        "###3 : Named Entity Recognition (NER) with One shot Example  🚀"
      ],
      "metadata": {
        "id": "wShWgSBtixow"
      }
    },
    {
      "cell_type": "code",
      "source": [
        "# Case : 3\n",
        "# If want to perform NER wit one shot example adding by default\n",
        "# Observe The changes in the model's output\n",
        "# the example format should be -> [ [Text, [{'E' : Entity Name, 'T': Type of Entity }]] ]\n",
        "\n",
        "one_shot = \"Leptomeningeal metastases (LM) occur in patients with breast cancer (BC) and lung cancer (LC). The cerebrospinal fluid (CSF) tumour microenvironment (TME) of LM patients is not well defined at a single-cell level. We did an analysis based on single-cell RNA sequencing (scRNA-seq) data and four patient-derived CSF samples of idiopathic intracranial hypertension (IIH)\"\n",
        "one_shot = [[one_shot, [{'E': 'DISEASE', 'W': 'Leptomeningeal metastases'}, {'E': 'DISEASE', 'W': 'breast cancer'}, {'E': 'DISEASE', 'W': 'lung cancer'}, {'E': 'BIOMARKER', 'W': 'cerebrospinal fluid'}, {'E': 'DISEASE', 'W': 'tumour microenvironment'}, {'E': 'TEST', 'W': 'single-cell RNA sequencing'}, {'E': 'DISEASE', 'W': 'idiopathic intracranial hypertension'}]]]\n",
        "\n",
        "\n",
        "result = nlp_prompter.fit('ner.jinja',\n",
        "                          domain      = 'medical',\n",
        "                          text_input  = sent,\n",
        "                          examples    = one_shot,\n",
        "                          labels      = [\"SYMPTOM\", \"DISEASE\"])\n",
        "\n",
        "\n",
        "pprint(eval(result['text']))"
      ],
      "metadata": {
        "colab": {
          "base_uri": "https://localhost:8080/",
          "height": 367
        },
        "id": "59Ozbzh4iwrC",
        "outputId": "0418753d-cc14-4f45-ab12-c9090154c818"
      },
      "execution_count": null,
      "outputs": [
        {
          "output_type": "display_data",
          "data": {
            "text/plain": [
              "<IPython.core.display.HTML object>"
            ],
            "text/html": [
              "<h4>Sentence</h4>"
            ]
          },
          "metadata": {}
        },
        {
          "output_type": "stream",
          "name": "stdout",
          "text": [
            "\n",
            "\n",
            "The patient is a 93-year-old female with a medical history of chronic right hip pain, osteoporosis, hypertension, depression, and chronic atrial fibrillation admitted for evaluation and management of severe nausea and vomiting and urinary tract infection\n",
            "\n",
            "\n"
          ]
        },
        {
          "output_type": "display_data",
          "data": {
            "text/plain": [
              "<IPython.core.display.HTML object>"
            ],
            "text/html": [
              "<h4>Output</h4>"
            ]
          },
          "metadata": {}
        },
        {
          "output_type": "stream",
          "name": "stdout",
          "text": [
            "\n",
            "\n",
            "[[{'E': 'SYMPTOM', 'W': 'chronic right hip pain'},\n",
            "  {'E': 'DISEASE', 'W': 'osteoporosis'},\n",
            "  {'E': 'DISEASE', 'W': 'hypertension'},\n",
            "  {'E': 'SYMPTOM', 'W': 'depression'},\n",
            "  {'E': 'DISEASE', 'W': 'chronic atrial fibrillation'},\n",
            "  {'E': 'SYMPTOM', 'W': 'severe nausea and vomiting'},\n",
            "  {'E': 'DISEASE', 'W': 'urinary tract infection'}]]\n"
          ]
        }
      ]
    },
    {
      "cell_type": "markdown",
      "source": [
        "###5 : Named Entity Recognition (NER) with some Domain Knowledge 🚀"
      ],
      "metadata": {
        "id": "cLT5okKkhhbA"
      }
    },
    {
      "cell_type": "code",
      "source": [
        "#Case : 5\n",
        "#If want to give some domain knowledge and description in prompt to enhance the output\n",
        "\n",
        "result = nlp_prompter.fit('ner.jinja',\n",
        "                          domain      = 'clinical',\n",
        "                          text_input  = sent,\n",
        "                          examples    = one_shot,\n",
        "                          description = \"Below Paragraph is from discharge summary of a patient. The Paragraph describes the condition and symptoms of patient.\",\n",
        "                          labels      = [\"SYMPTOM\", \"DISEASE\"])\n",
        "\n",
        "pprint(eval(result['text']))"
      ],
      "metadata": {
        "colab": {
          "base_uri": "https://localhost:8080/",
          "height": 367
        },
        "id": "C7_39E61fWn3",
        "outputId": "00027bb8-cb0b-470d-af6d-f571e7006f8c"
      },
      "execution_count": null,
      "outputs": [
        {
          "output_type": "display_data",
          "data": {
            "text/plain": [
              "<IPython.core.display.HTML object>"
            ],
            "text/html": [
              "<h4>Sentence</h4>"
            ]
          },
          "metadata": {}
        },
        {
          "output_type": "stream",
          "name": "stdout",
          "text": [
            "\n",
            "\n",
            "The patient is a 93-year-old female with a medical history of chronic right hip pain, osteoporosis, hypertension, depression, and chronic atrial fibrillation admitted for evaluation and management of severe nausea and vomiting and urinary tract infection\n",
            "\n",
            "\n"
          ]
        },
        {
          "output_type": "display_data",
          "data": {
            "text/plain": [
              "<IPython.core.display.HTML object>"
            ],
            "text/html": [
              "<h4>Output</h4>"
            ]
          },
          "metadata": {}
        },
        {
          "output_type": "stream",
          "name": "stdout",
          "text": [
            "\n",
            "\n",
            "[[{'E': 'SYMPTOM', 'W': 'chronic right hip pain'},\n",
            "  {'E': 'DISEASE', 'W': 'osteoporosis'},\n",
            "  {'E': 'DISEASE', 'W': 'hypertension'},\n",
            "  {'E': 'SYMPTOM', 'W': 'depression'},\n",
            "  {'E': 'DISEASE', 'W': 'chronic atrial fibrillation'},\n",
            "  {'E': 'SYMPTOM', 'W': 'severe nausea and vomiting'},\n",
            "  {'E': 'DISEASE', 'W': 'urinary tract infection'}]]\n"
          ]
        }
      ]
    },
    {
      "cell_type": "code",
      "source": [],
      "metadata": {
        "id": "cgZU6TA1ZSpH"
      },
      "execution_count": null,
      "outputs": []
    }
  ]
}
